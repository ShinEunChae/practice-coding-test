{
 "cells": [
  {
   "cell_type": "markdown",
   "id": "8c59edb6",
   "metadata": {},
   "source": [
    "#### 문제 설명\n",
    "양의 정수 x가 하샤드 수이려면 x의 자릿수의 합으로 x가 나누어져야 합니다.  \n",
    "예를 들어 18의 자릿수 합은 1+8=9이고, 18은 9로 나누어 떨어지므로 18은 하샤드 수입니다.  \n",
    "자연수 x를 입력받아 x가 하샤드 수인지 아닌지 검사하는 함수, solution을 완성해주세요."
   ]
  },
  {
   "cell_type": "markdown",
   "id": "3cd2a551",
   "metadata": {},
   "source": [
    "#### 제한 조건\n",
    "- x는 1 이상, 10000 이하인 정수입니다."
   ]
  },
  {
   "cell_type": "markdown",
   "id": "2a733c6e",
   "metadata": {},
   "source": [
    "#### 입출력 예\n",
    "arr|return\n",
    "---|---\n",
    "10|true\n",
    "12|true\n",
    "11|false\n",
    "13|false"
   ]
  },
  {
   "cell_type": "markdown",
   "id": "30c7013a",
   "metadata": {},
   "source": [
    "#### 입출력 예 설명\n",
    "입출력 예 #1  \n",
    "10의 모든 자릿수의 합은 1입니다. 10은 1로 나누어 떨어지므로 10은 하샤드 수입니다.  \n",
    " \n",
    "입출력 예 #2  \n",
    "12의 모든 자릿수의 합은 3입니다. 12는 3으로 나누어 떨어지므로 12는 하샤드 수입니다.  \n",
    " \n",
    "입출력 예 #3  \n",
    "11의 모든 자릿수의 합은 2입니다. 11은 2로 나누어 떨어지지 않으므로 11는 하샤드 수가 아닙니다.  \n",
    " \n",
    "입출력 예 #4  \n",
    "13의 모든 자릿수의 합은 4입니다. 13은 4로 나누어 떨어지지 않으므로 13은 하샤드 수가 아닙니다.  "
   ]
  },
  {
   "cell_type": "markdown",
   "id": "99ee3217",
   "metadata": {},
   "source": [
    "#### 풀이"
   ]
  },
  {
   "cell_type": "code",
   "execution_count": 1,
   "id": "72e6388a",
   "metadata": {},
   "outputs": [],
   "source": [
    "def solution(x):\n",
    "    sum_x = sum([int(i) for i in str(x)])\n",
    "    if x % sum_x == 0:\n",
    "        return True\n",
    "    else:\n",
    "        return False"
   ]
  },
  {
   "cell_type": "code",
   "execution_count": 2,
   "id": "bedb75f6",
   "metadata": {},
   "outputs": [
    {
     "data": {
      "text/plain": [
       "True"
      ]
     },
     "execution_count": 2,
     "metadata": {},
     "output_type": "execute_result"
    }
   ],
   "source": [
    "solution(12)"
   ]
  },
  {
   "cell_type": "code",
   "execution_count": null,
   "id": "19ba0ef1",
   "metadata": {},
   "outputs": [],
   "source": []
  }
 ],
 "metadata": {
  "kernelspec": {
   "display_name": "Python 3 (ipykernel)",
   "language": "python",
   "name": "python3"
  },
  "language_info": {
   "codemirror_mode": {
    "name": "ipython",
    "version": 3
   },
   "file_extension": ".py",
   "mimetype": "text/x-python",
   "name": "python",
   "nbconvert_exporter": "python",
   "pygments_lexer": "ipython3",
   "version": "3.8.8"
  }
 },
 "nbformat": 4,
 "nbformat_minor": 5
}
