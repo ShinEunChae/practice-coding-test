{
 "cells": [
  {
   "cell_type": "markdown",
   "id": "b8f9e1b5",
   "metadata": {},
   "source": [
    "#### 문제 설명\n",
    "프로그래머스 모바일은 개인정보 보호를 위해 고지서를 보낼 때 고객들의 전화번호의 일부를 가립니다.  \n",
    "전화번호가 문자열 phone_number로 주어졌을 때, 전화번호의 뒷 4자리를 제외한 나머지 숫자를 전부 *으로 가린 문자열을 리턴하는 함수, solution을 완성해주세요."
   ]
  },
  {
   "cell_type": "markdown",
   "id": "c0163131",
   "metadata": {},
   "source": [
    "#### 제한 조건\n",
    "- phone_number는 길이 4 이상, 20이하인 문자열입니다."
   ]
  },
  {
   "cell_type": "markdown",
   "id": "ca91394d",
   "metadata": {},
   "source": [
    "#### 입출력 예\n",
    "| phone_number | return |\n",
    "|---|---|\n",
    "|\"01033334444\"|\"&#42;&#42;&#42;&#42;&#42;&#42;&#42;4444\"|\n",
    "|\"027778888\"|\"&#42;&#42;&#42;&#42;&#42;8888\"|"
   ]
  },
  {
   "cell_type": "markdown",
   "id": "b36a6747",
   "metadata": {},
   "source": [
    "#### 풀이"
   ]
  },
  {
   "cell_type": "code",
   "execution_count": 1,
   "id": "2ca3f4eb",
   "metadata": {},
   "outputs": [],
   "source": [
    "def solution(phone_number):\n",
    "    return len(phone_number[:-4]) * '*' + phone_number[-4:]"
   ]
  },
  {
   "cell_type": "code",
   "execution_count": 2,
   "id": "09381f1b",
   "metadata": {},
   "outputs": [
    {
     "data": {
      "text/plain": [
       "'*******4444'"
      ]
     },
     "execution_count": 2,
     "metadata": {},
     "output_type": "execute_result"
    }
   ],
   "source": [
    "solution(\"01033334444\")"
   ]
  },
  {
   "cell_type": "code",
   "execution_count": null,
   "id": "b3e23ad6",
   "metadata": {},
   "outputs": [],
   "source": []
  }
 ],
 "metadata": {
  "kernelspec": {
   "display_name": "Python 3 (ipykernel)",
   "language": "python",
   "name": "python3"
  },
  "language_info": {
   "codemirror_mode": {
    "name": "ipython",
    "version": 3
   },
   "file_extension": ".py",
   "mimetype": "text/x-python",
   "name": "python",
   "nbconvert_exporter": "python",
   "pygments_lexer": "ipython3",
   "version": "3.8.8"
  }
 },
 "nbformat": 4,
 "nbformat_minor": 5
}
