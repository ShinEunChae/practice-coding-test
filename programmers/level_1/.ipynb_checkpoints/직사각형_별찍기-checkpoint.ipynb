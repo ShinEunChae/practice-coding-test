{
 "cells": [
  {
   "cell_type": "markdown",
   "id": "de1dd33c",
   "metadata": {},
   "source": [
    "#### 문제 설명\n",
    "이 문제에는 표준 입력으로 두 개의 정수 n과 m이 주어집니다.  \n",
    "별(*) 문자를 이용해 가로의 길이가 n, 세로의 길이가 m인 직사각형 형태를 출력해보세요."
   ]
  },
  {
   "cell_type": "markdown",
   "id": "3bdddb0c",
   "metadata": {},
   "source": [
    "#### 제한 조건\n",
    "- n과 m은 각각 1000 이하인 자연수입니다."
   ]
  },
  {
   "cell_type": "markdown",
   "id": "ef6f93c1",
   "metadata": {},
   "source": [
    "#### 예시\n",
    "입력\n",
    "\n",
    "> 5 3\n",
    "\n",
    "출력\n",
    "\n",
    "> &#42;&#42;&#42;&#42;&#42;  \n",
    "> &#42;&#42;&#42;&#42;&#42;  \n",
    "> &#42;&#42;&#42;&#42;&#42;"
   ]
  },
  {
   "cell_type": "markdown",
   "id": "e1b01b06",
   "metadata": {},
   "source": [
    "#### 풀이"
   ]
  },
  {
   "cell_type": "code",
   "execution_count": 1,
   "id": "8ff02478",
   "metadata": {},
   "outputs": [
    {
     "name": "stdout",
     "output_type": "stream",
     "text": [
      "5 3\n",
      "*****\n",
      "*****\n",
      "*****\n"
     ]
    }
   ],
   "source": [
    "a, b = map(int, input().split(' '))\n",
    "for i in range(b):\n",
    "    print('*'*a)"
   ]
  }
 ],
 "metadata": {
  "kernelspec": {
   "display_name": "Python 3 (ipykernel)",
   "language": "python",
   "name": "python3"
  },
  "language_info": {
   "codemirror_mode": {
    "name": "ipython",
    "version": 3
   },
   "file_extension": ".py",
   "mimetype": "text/x-python",
   "name": "python",
   "nbconvert_exporter": "python",
   "pygments_lexer": "ipython3",
   "version": "3.8.8"
  }
 },
 "nbformat": 4,
 "nbformat_minor": 5
}
