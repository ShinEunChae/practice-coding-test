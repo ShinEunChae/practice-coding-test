{
 "cells": [
  {
   "cell_type": "markdown",
   "id": "3d93c9db",
   "metadata": {},
   "source": [
    "#### 문제 설명\n",
    "과일 장수가 사과 상자를 포장하고 있습니다. 사과는 상태에 따라 1점부터 k점까지의 점수로 분류하며, k점이 최상품의 사과이고 1점이 최하품의 사과입니다.  \n",
    "사과 한 상자의 가격은 다음과 같이 결정됩니다.\n",
    "\n",
    "- 한 상자에 사과를 m개씩 담아 포장합니다.\n",
    "- 상자에 담긴 사과 중 가장 낮은 점수가 p (1 ≤ p ≤ k)점인 경우, 사과 한 상자의 가격은 p * m 입니다.\n",
    "\n",
    "과일 장수가 가능한 많은 사과를 팔았을 때, 얻을 수 있는 최대 이익을 계산하고자 합니다.(사과는 상자 단위로만 판매하며, 남는 사과는 버립니다)  \n",
    "예를 들어, k = 3, m = 4, 사과 7개의 점수가 [1, 2, 3, 1, 2, 3, 1]이라면, 다음과 같이 [2, 3, 2, 3]으로 구성된 사과 상자 1개를 만들어 판매하여 최대 이익을 얻을 수 있습니다.\n",
    "\n",
    "- (최저 사과 점수) x (한 상자에 담긴 사과 개수) x (상자의 개수) = 2 x 4 x 1 = 8\n",
    "\n",
    "사과의 최대 점수 k, 한 상자에 들어가는 사과의 수 m, 사과들의 점수 score가 주어졌을 때, 과일 장수가 얻을 수 있는 최대 이익을 return하는 solution 함수를 완성해주세요."
   ]
  },
  {
   "cell_type": "markdown",
   "id": "fbdbe8de",
   "metadata": {},
   "source": [
    "#### 제한사항\n",
    "- 3 ≤ k ≤ 9\n",
    "- 3 ≤ m ≤ 10\n",
    "- 7 ≤ score의 길이 ≤ 1,000,000\n",
    "- 1 ≤ score[i] ≤ k\n",
    "- 이익이 발생하지 않는 경우에는 0을 return 해주세요."
   ]
  },
  {
   "cell_type": "markdown",
   "id": "216271cc",
   "metadata": {},
   "source": [
    "#### 입출력 예\n",
    "k|m|score|result\n",
    "---|---|---|---\n",
    "3|4|[1, 2, 3, 1, 2, 3, 1]|8\n",
    "4|3|[4, 1, 2, 2, 4, 4, 4, 4, 1, 2, 4, 2]|33"
   ]
  },
  {
   "cell_type": "markdown",
   "id": "9e9f4822",
   "metadata": {},
   "source": [
    "#### 나의 풀이 #1"
   ]
  },
  {
   "cell_type": "code",
   "execution_count": 1,
   "id": "4944d4a9",
   "metadata": {},
   "outputs": [],
   "source": [
    "def solution(k, m, score):\n",
    "    score.sort(reverse=True)\n",
    "    answer = 0\n",
    "    \n",
    "    while len(score) >= m:\n",
    "        s = score[:m]\n",
    "        answer += min(s) * m\n",
    "        score = score[m:]\n",
    "        \n",
    "    return answer"
   ]
  },
  {
   "cell_type": "markdown",
   "id": "d2ea25b2",
   "metadata": {},
   "source": [
    "결과: 테스트 11~15 시간 초과로 실패."
   ]
  },
  {
   "cell_type": "markdown",
   "id": "34bd5308",
   "metadata": {},
   "source": [
    "#### 나의 풀이 #2"
   ]
  },
  {
   "cell_type": "code",
   "execution_count": 2,
   "id": "4a9b04d5",
   "metadata": {},
   "outputs": [],
   "source": [
    "def solution(k, m, score):\n",
    "    score.sort(reverse=True)\n",
    "    stack = []\n",
    "    answer = 0\n",
    "\n",
    "    for s in score:\n",
    "        stack.append(s)\n",
    "        if len(stack) == m:\n",
    "            answer += min(stack) * m\n",
    "            stack = []\n",
    "\n",
    "    return answer"
   ]
  },
  {
   "cell_type": "markdown",
   "id": "e00a9105",
   "metadata": {},
   "source": [
    "while문이 문제인 것 같아서 for문으로 변경하자 통과했다."
   ]
  },
  {
   "cell_type": "code",
   "execution_count": null,
   "id": "68729ea5",
   "metadata": {},
   "outputs": [],
   "source": []
  }
 ],
 "metadata": {
  "kernelspec": {
   "display_name": "Python 3 (ipykernel)",
   "language": "python",
   "name": "python3"
  },
  "language_info": {
   "codemirror_mode": {
    "name": "ipython",
    "version": 3
   },
   "file_extension": ".py",
   "mimetype": "text/x-python",
   "name": "python",
   "nbconvert_exporter": "python",
   "pygments_lexer": "ipython3",
   "version": "3.9.12"
  }
 },
 "nbformat": 4,
 "nbformat_minor": 5
}
