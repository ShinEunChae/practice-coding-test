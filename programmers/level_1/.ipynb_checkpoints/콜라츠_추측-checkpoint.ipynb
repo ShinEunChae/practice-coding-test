{
 "cells": [
  {
   "cell_type": "markdown",
   "id": "1d693e62",
   "metadata": {},
   "source": [
    "#### 문제 설명\n",
    "1937년 Collatz란 사람에 의해 제기된 이 추측은, 주어진 수가 1이 될 때까지 다음 작업을 반복하면, 모든 수를 1로 만들 수 있다는 추측입니다. 작업은 다음과 같습니다.\n",
    "\n",
    "> 1-1. 입력된 수가 짝수라면 2로 나눕니다.  \n",
    "> 1-2. 입력된 수가 홀수라면 3을 곱하고 1을 더합니다.  \n",
    "> 2. 결과로 나온 수에 같은 작업을 1이 될 때까지 반복합니다. \n",
    "\n",
    "예를 들어, 주어진 수가 6이라면 6 → 3 → 10 → 5 → 16 → 8 → 4 → 2 → 1 이 되어 총 8번 만에 1이 됩니다.  \n",
    "위 작업을 몇 번이나 반복해야 하는지 반환하는 함수, solution을 완성해 주세요.  \n",
    "단, 주어진 수가 1인 경우에는 0을, 작업을 500번 반복할 때까지 1이 되지 않는다면 –1을 반환해 주세요."
   ]
  },
  {
   "cell_type": "markdown",
   "id": "62d68ec0",
   "metadata": {},
   "source": [
    "#### 제한 사항\n",
    "- 입력된 수, num은 1 이상 8,000,000 미만인 정수입니다."
   ]
  },
  {
   "cell_type": "markdown",
   "id": "a8e118aa",
   "metadata": {},
   "source": [
    "#### 입출력 예  \n",
    "n|result\n",
    "---|---\n",
    "6|8\n",
    "16|4\n",
    "626331|-1"
   ]
  },
  {
   "cell_type": "markdown",
   "id": "bce59d40",
   "metadata": {},
   "source": [
    "#### 입출력 예 설명\n",
    "입출력 예 #1  \n",
    "문제의 설명과 같습니다.\n",
    "\n",
    "입출력 예 #2  \n",
    "16 → 8 → 4 → 2 → 1 이 되어 총 4번 만에 1이 됩니다.\n",
    "\n",
    "입출력 예 #3  \n",
    "626331은 500번을 시도해도 1이 되지 못하므로 -1을 리턴해야 합니다."
   ]
  },
  {
   "cell_type": "markdown",
   "id": "febf35d4",
   "metadata": {},
   "source": [
    "#### 풀이"
   ]
  },
  {
   "cell_type": "code",
   "execution_count": 1,
   "id": "2c61f366",
   "metadata": {},
   "outputs": [],
   "source": [
    "def solution(num):\n",
    "    cnt = 0\n",
    "    while num != 1 and cnt <= 500:\n",
    "        if num % 2 == 0:\n",
    "            num = num / 2\n",
    "            cnt += 1\n",
    "        else:\n",
    "            num = num * 3 + 1\n",
    "            cnt += 1\n",
    "    if cnt > 500:\n",
    "        return -1\n",
    "    else:\n",
    "        return cnt"
   ]
  },
  {
   "cell_type": "code",
   "execution_count": 2,
   "id": "5a0cf17d",
   "metadata": {},
   "outputs": [
    {
     "data": {
      "text/plain": [
       "4"
      ]
     },
     "execution_count": 2,
     "metadata": {},
     "output_type": "execute_result"
    }
   ],
   "source": [
    "solution(16)"
   ]
  },
  {
   "cell_type": "code",
   "execution_count": null,
   "id": "051d3287",
   "metadata": {},
   "outputs": [],
   "source": []
  }
 ],
 "metadata": {
  "kernelspec": {
   "display_name": "Python 3 (ipykernel)",
   "language": "python",
   "name": "python3"
  },
  "language_info": {
   "codemirror_mode": {
    "name": "ipython",
    "version": 3
   },
   "file_extension": ".py",
   "mimetype": "text/x-python",
   "name": "python",
   "nbconvert_exporter": "python",
   "pygments_lexer": "ipython3",
   "version": "3.8.8"
  }
 },
 "nbformat": 4,
 "nbformat_minor": 5
}
