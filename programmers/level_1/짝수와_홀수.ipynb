{
 "cells": [
  {
   "cell_type": "markdown",
   "id": "24a3e50d",
   "metadata": {},
   "source": [
    "#### 문제 설명\n",
    "정수 num이 짝수일 경우 \"Even\"을 반환하고 홀수인 경우 \"Odd\"를 반환하는 함수, solution을 완성해주세요."
   ]
  },
  {
   "cell_type": "markdown",
   "id": "3cbe3da7",
   "metadata": {},
   "source": [
    "#### 제한 조건\n",
    "- num은 int 범위의 정수입니다.\n",
    "- 0은 짝수입니다."
   ]
  },
  {
   "cell_type": "markdown",
   "id": "5ad2a262",
   "metadata": {},
   "source": [
    "#### 입출력 예\n",
    "num|return\n",
    "---|---\n",
    "3|\"Odd\"\n",
    "4|\"Even\""
   ]
  },
  {
   "cell_type": "markdown",
   "id": "3700ec70",
   "metadata": {},
   "source": [
    "#### 풀이"
   ]
  },
  {
   "cell_type": "code",
   "execution_count": 1,
   "id": "0390eef0",
   "metadata": {},
   "outputs": [],
   "source": [
    "def solution(num):\n",
    "    return \"Even\" if num % 2 == 0 else \"Odd\""
   ]
  },
  {
   "cell_type": "code",
   "execution_count": 2,
   "id": "702b0cd9",
   "metadata": {},
   "outputs": [
    {
     "data": {
      "text/plain": [
       "'Odd'"
      ]
     },
     "execution_count": 2,
     "metadata": {},
     "output_type": "execute_result"
    }
   ],
   "source": [
    "solution(3)"
   ]
  },
  {
   "cell_type": "code",
   "execution_count": 3,
   "id": "a3b96fc3",
   "metadata": {},
   "outputs": [
    {
     "data": {
      "text/plain": [
       "'Even'"
      ]
     },
     "execution_count": 3,
     "metadata": {},
     "output_type": "execute_result"
    }
   ],
   "source": [
    "solution(4)"
   ]
  },
  {
   "cell_type": "code",
   "execution_count": null,
   "id": "902f1723",
   "metadata": {},
   "outputs": [],
   "source": []
  }
 ],
 "metadata": {
  "kernelspec": {
   "display_name": "Python 3 (ipykernel)",
   "language": "python",
   "name": "python3"
  },
  "language_info": {
   "codemirror_mode": {
    "name": "ipython",
    "version": 3
   },
   "file_extension": ".py",
   "mimetype": "text/x-python",
   "name": "python",
   "nbconvert_exporter": "python",
   "pygments_lexer": "ipython3",
   "version": "3.9.7"
  }
 },
 "nbformat": 4,
 "nbformat_minor": 5
}
