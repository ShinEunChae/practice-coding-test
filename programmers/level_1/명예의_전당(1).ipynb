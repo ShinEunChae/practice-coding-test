{
 "cells": [
  {
   "cell_type": "markdown",
   "id": "d0ef60f1",
   "metadata": {},
   "source": [
    "#### 문제 설명\n",
    "\"명예의 전당\"이라는 TV 프로그램에서는 매일 1명의 가수가 노래를 부르고, 시청자들의 문자 투표수로 가수에게 점수를 부여합니다.  \n",
    "매일 출연한 가수의 점수가 지금까지 출연 가수들의 점수 중 상위 k번째 이내이면 해당 가수의 점수를 명예의 전당이라는 목록에 올려 기념합니다.  \n",
    "즉 프로그램 시작 이후 초기에 k일까지는 모든 출연 가수의 점수가 명예의 전당에 오르게 됩니다.  \n",
    "k일 다음부터는 출연 가수의 점수가 기존의 명예의 전당 목록의 k번째 순위의 가수 점수보다 더 높으면, 출연 가수의 점수가 명예의 전당에 오르게 되고 기존의 k번째 순위의 점수는 명예의 전당에서 내려오게 됩니다.\n",
    "\n",
    "이 프로그램에서는 매일 \"명예의 전당\"의 최하위 점수를 발표합니다.  \n",
    "예를 들어, k = 3이고, 7일 동안 진행된 가수의 점수가 [10, 100, 20, 150, 1, 100, 200]이라면, 명예의 전당에서 발표된 점수는 아래의 그림과 같이 [10, 10, 10, 20, 20, 100, 100]입니다.\n",
    "\n",
    "명예의 전당 목록의 점수의 개수 k, 1일부터 마지막 날까지 출연한 가수들의 점수인 score가 주어졌을 때, 매일 발표된 명예의 전당의 최하위 점수를 return하는 solution 함수를 완성해주세요."
   ]
  },
  {
   "cell_type": "markdown",
   "id": "4f6d9312",
   "metadata": {},
   "source": [
    "#### 제한사항\n",
    "- 3 ≤ k ≤ 100\n",
    "- 7 ≤ score의 길이 ≤ 1,000\n",
    " - 0 ≤ score[i] ≤ 2,000"
   ]
  },
  {
   "cell_type": "markdown",
   "id": "549c5f80",
   "metadata": {},
   "source": [
    "#### 입출력 예\n",
    "|k|score|result|\n",
    "|---|---|---|\n",
    "|3|[10, 100, 20, 150, 1, 100, 200]|[10, 10, 10, 20, 20, 100, 100]|\n",
    "|4|[0, 300, 40, 300, 20, 70, 150, 50, 500, 1000]|[0, 0, 0, 0, 20, 40, 70, 70, 150, 300]|"
   ]
  },
  {
   "cell_type": "markdown",
   "id": "83b41c3e",
   "metadata": {},
   "source": [
    "#### 풀이"
   ]
  },
  {
   "cell_type": "code",
   "execution_count": 1,
   "id": "6aad7746",
   "metadata": {},
   "outputs": [],
   "source": [
    "def solution(k, score):\n",
    "    stack = []\n",
    "    answer = []\n",
    "    \n",
    "    for s in score:\n",
    "        stack.append(s)\n",
    "        \n",
    "        if len(stack) > k:\n",
    "            stack.remove(min(stack))\n",
    "        else:\n",
    "            pass\n",
    "        \n",
    "        answer.append(min(stack))\n",
    "    \n",
    "    return answer"
   ]
  },
  {
   "cell_type": "code",
   "execution_count": 2,
   "id": "0f06d956",
   "metadata": {},
   "outputs": [
    {
     "data": {
      "text/plain": [
       "[10, 10, 10, 20, 20, 100, 100]"
      ]
     },
     "execution_count": 2,
     "metadata": {},
     "output_type": "execute_result"
    }
   ],
   "source": [
    "solution(3, [10, 100, 20, 150, 1, 100, 200])"
   ]
  },
  {
   "cell_type": "code",
   "execution_count": null,
   "id": "04383549",
   "metadata": {},
   "outputs": [],
   "source": []
  }
 ],
 "metadata": {
  "kernelspec": {
   "display_name": "Python 3 (ipykernel)",
   "language": "python",
   "name": "python3"
  },
  "language_info": {
   "codemirror_mode": {
    "name": "ipython",
    "version": 3
   },
   "file_extension": ".py",
   "mimetype": "text/x-python",
   "name": "python",
   "nbconvert_exporter": "python",
   "pygments_lexer": "ipython3",
   "version": "3.9.12"
  }
 },
 "nbformat": 4,
 "nbformat_minor": 5
}
