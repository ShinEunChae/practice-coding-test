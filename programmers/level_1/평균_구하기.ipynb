{
 "cells": [
  {
   "cell_type": "markdown",
   "id": "4dd7f39a",
   "metadata": {},
   "source": [
    "#### 문제 설명\n",
    "정수를 담고 있는 배열 arr의 평균값을 return하는 함수, solution을 완성해보세요."
   ]
  },
  {
   "cell_type": "markdown",
   "id": "91298946",
   "metadata": {},
   "source": [
    "#### 제한사항\n",
    "- arr은 길이 1 이상, 100 이하인 배열입니다.\n",
    "- arr의 원소는 -10,000 이상 10,000 이하인 정수입니다."
   ]
  },
  {
   "cell_type": "markdown",
   "id": "b70f02ba",
   "metadata": {},
   "source": [
    "#### 입출력 예\n",
    "arr|return\n",
    "---|---\n",
    "[1,2,3,4]|2.5\n",
    "[5,5]|5"
   ]
  },
  {
   "cell_type": "markdown",
   "id": "6a717ea7",
   "metadata": {},
   "source": [
    "#### 풀이"
   ]
  },
  {
   "cell_type": "code",
   "execution_count": 1,
   "id": "6e7a61d2",
   "metadata": {},
   "outputs": [],
   "source": [
    "def solution(arr):\n",
    "    return sum(arr) / len(arr)"
   ]
  },
  {
   "cell_type": "code",
   "execution_count": 2,
   "id": "581aad5d",
   "metadata": {},
   "outputs": [
    {
     "data": {
      "text/plain": [
       "2.5"
      ]
     },
     "execution_count": 2,
     "metadata": {},
     "output_type": "execute_result"
    }
   ],
   "source": [
    "solution([1,2,3,4])"
   ]
  },
  {
   "cell_type": "code",
   "execution_count": null,
   "id": "a0ba7e93",
   "metadata": {},
   "outputs": [],
   "source": []
  }
 ],
 "metadata": {
  "kernelspec": {
   "display_name": "Python 3 (ipykernel)",
   "language": "python",
   "name": "python3"
  },
  "language_info": {
   "codemirror_mode": {
    "name": "ipython",
    "version": 3
   },
   "file_extension": ".py",
   "mimetype": "text/x-python",
   "name": "python",
   "nbconvert_exporter": "python",
   "pygments_lexer": "ipython3",
   "version": "3.8.8"
  }
 },
 "nbformat": 4,
 "nbformat_minor": 5
}
