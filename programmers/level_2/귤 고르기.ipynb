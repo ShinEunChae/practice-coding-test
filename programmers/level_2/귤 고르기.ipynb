{
 "cells": [
  {
   "cell_type": "markdown",
   "id": "a55a49aa",
   "metadata": {},
   "source": [
    "#### 문제 설명\n",
    "경화는 과수원에서 귤을 수확했습니다. 경화는 수확한 귤 중 'k'개를 골라 상자 하나에 담아 판매하려고 합니다.  \n",
    "그런데 수확한 귤의 크기가 일정하지 않아 보기에 좋지 않다고 생각한 경화는 귤을 크기별로 분류했을 때 서로 다른 종류의 수를 최소화하고 싶습니다.\n",
    "\n",
    "예를 들어, 경화가 수확한 귤 8개의 크기가 [1, 3, 2, 5, 4, 5, 2, 3] 이라고 합시다.  \n",
    "경화가 귤 6개를 판매하고 싶다면, 크기가 1, 4인 귤을 제외한 여섯 개의 귤을 상자에 담으면, 귤의 크기의 종류가 2, 3, 5로 총 3가지가 되며 이때가 서로 다른 종류가 최소일 때입니다.\n",
    "\n",
    "경화가 한 상자에 담으려는 귤의 개수 k와 귤의 크기를 담은 배열 tangerine이 매개변수로 주어집니다.  \n",
    "경화가 귤 k개를 고를 때 크기가 서로 다른 종류의 수의 최솟값을 return 하도록 solution 함수를 작성해주세요."
   ]
  },
  {
   "cell_type": "markdown",
   "id": "ff026184",
   "metadata": {},
   "source": [
    "#### 제한 사항\n",
    "- 1 ≤ k ≤ tangerine의 길이 ≤ 100,000\n",
    "- 1 ≤ tangerine의 원소 ≤ 10,000,000"
   ]
  },
  {
   "cell_type": "markdown",
   "id": "5514d65a",
   "metadata": {},
   "source": [
    "#### 입출력 예\n",
    "\n",
    "k|tangerine|result\n",
    "---|---|---\n",
    "6|[1, 3, 2, 5, 4, 5, 2, 3]|3\n",
    "4|[1, 3, 2, 5, 4, 5, 2, 3]|2\n",
    "2|[1, 1, 1, 1, 2, 2, 2, 3]|1"
   ]
  },
  {
   "cell_type": "markdown",
   "id": "c6c7e7e9",
   "metadata": {},
   "source": [
    "#### 나의 풀이 #1"
   ]
  },
  {
   "cell_type": "code",
   "execution_count": 1,
   "id": "405ce2a1",
   "metadata": {},
   "outputs": [],
   "source": [
    "def solution(k, tangerine):\n",
    "    \n",
    "    count = [tangerine.count(i) for i in range(min(tangerine), max(tangerine) + 1)]\n",
    "    cnt = 0\n",
    "    answer = 0\n",
    "    \n",
    "    while cnt < k:\n",
    "        cnt += max(count)\n",
    "        count.remove(max(count))\n",
    "        answer += 1\n",
    "    \n",
    "    return answer"
   ]
  },
  {
   "cell_type": "markdown",
   "id": "d91a9efb",
   "metadata": {},
   "source": [
    "#### 일부 케이스 시간 초과 문제로 실패"
   ]
  },
  {
   "cell_type": "markdown",
   "id": "c466403c",
   "metadata": {},
   "source": [
    "#### 나의 풀이 #2"
   ]
  },
  {
   "cell_type": "code",
   "execution_count": 2,
   "id": "9e721a2c",
   "metadata": {},
   "outputs": [],
   "source": [
    "from collections import Counter\n",
    "\n",
    "def solution(k, tangerine):\n",
    "\n",
    "    freq = Counter(tangerine).most_common()\n",
    "    tan = 0\n",
    "    cnt = 0\n",
    "\n",
    "    for f in freq:\n",
    "        tan += f[1]\n",
    "        cnt += 1\n",
    "        if tan >= k:\n",
    "            break\n",
    "\n",
    "    return cnt"
   ]
  },
  {
   "cell_type": "code",
   "execution_count": 3,
   "id": "063d8ab0",
   "metadata": {},
   "outputs": [
    {
     "data": {
      "text/plain": [
       "3"
      ]
     },
     "execution_count": 3,
     "metadata": {},
     "output_type": "execute_result"
    }
   ],
   "source": [
    "solution(6, [1, 3, 2, 5, 4, 5, 2, 3])"
   ]
  },
  {
   "cell_type": "code",
   "execution_count": null,
   "id": "b8dd1aab",
   "metadata": {},
   "outputs": [],
   "source": []
  }
 ],
 "metadata": {
  "kernelspec": {
   "display_name": "Python 3 (ipykernel)",
   "language": "python",
   "name": "python3"
  },
  "language_info": {
   "codemirror_mode": {
    "name": "ipython",
    "version": 3
   },
   "file_extension": ".py",
   "mimetype": "text/x-python",
   "name": "python",
   "nbconvert_exporter": "python",
   "pygments_lexer": "ipython3",
   "version": "3.9.12"
  }
 },
 "nbformat": 4,
 "nbformat_minor": 5
}
